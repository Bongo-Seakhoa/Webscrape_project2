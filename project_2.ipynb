{
  "nbformat": 4,
  "nbformat_minor": 0,
  "metadata": {
    "colab": {
      "provenance": [],
      "gpuType": "T4",
      "authorship_tag": "ABX9TyM6ojeYsqjCcUtxsxONDPOq",
      "include_colab_link": true
    },
    "kernelspec": {
      "name": "python3",
      "display_name": "Python 3"
    },
    "language_info": {
      "name": "python"
    }
  },
  "cells": [
    {
      "cell_type": "markdown",
      "metadata": {
        "id": "view-in-github",
        "colab_type": "text"
      },
      "source": [
        "<a href=\"https://colab.research.google.com/github/Bongo-Seakhoa/Webscrape_project_2/blob/main/project_2.ipynb\" target=\"_parent\"><img src=\"https://colab.research.google.com/assets/colab-badge.svg\" alt=\"Open In Colab\"/></a>"
      ]
    },
    {
      "cell_type": "markdown",
      "source": [
        "#Scraping and downloading images from websites for ML\n",
        "\n",
        "The client needs all the images in png format for the following website:\n",
        "'http://www.pngmart.com/'\n",
        "The project is for machine learning so although the client did not specify the following part we will aslo get some metadata related to the images for them."
      ],
      "metadata": {
        "id": "bW1laCJ9U8rx"
      }
    },
    {
      "cell_type": "code",
      "execution_count": 6,
      "metadata": {
        "id": "ldIX1ApcU1gi"
      },
      "outputs": [],
      "source": [
        "#Importing libraries\n",
        "import requests\n",
        "from bs4 import BeautifulSoup"
      ]
    },
    {
      "cell_type": "code",
      "source": [
        "#Defining the sitemap we want to scrape\n",
        "site_map = 'https://www.pngmart.com/sitemap.xml'"
      ],
      "metadata": {
        "id": "rdJcrn-1bOxi"
      },
      "execution_count": 2,
      "outputs": []
    },
    {
      "cell_type": "code",
      "source": [
        "#Getting a response from the site \n",
        "response = requests.get(site_map)"
      ],
      "metadata": {
        "id": "O7WJD_KAbTJ5"
      },
      "execution_count": 3,
      "outputs": []
    },
    {
      "cell_type": "code",
      "source": [
        "response"
      ],
      "metadata": {
        "colab": {
          "base_uri": "https://localhost:8080/"
        },
        "id": "sCOsuts1bf5N",
        "outputId": "51f6f697-e47d-45e6-eecf-2eabda982e8b"
      },
      "execution_count": 4,
      "outputs": [
        {
          "output_type": "execute_result",
          "data": {
            "text/plain": [
              "<Response [200]>"
            ]
          },
          "metadata": {},
          "execution_count": 4
        }
      ]
    },
    {
      "cell_type": "code",
      "source": [
        "#Extracting the text form the response \n",
        "xml = response.text"
      ],
      "metadata": {
        "id": "9v6E_gT4buPp"
      },
      "execution_count": 5,
      "outputs": []
    },
    {
      "cell_type": "code",
      "source": [
        "#Creating a BeautifulSoup object with the response\n",
        "soup = BeautifulSoup(xml,'xml')"
      ],
      "metadata": {
        "id": "z--NpitkbxdP"
      },
      "execution_count": 6,
      "outputs": []
    },
    {
      "cell_type": "code",
      "source": [
        "soup.find_all('loc')"
      ],
      "metadata": {
        "colab": {
          "base_uri": "https://localhost:8080/"
        },
        "id": "TvaiPIlMg1eu",
        "outputId": "b16bb8a6-68d5-47c4-ec79-2016750d0896"
      },
      "execution_count": 7,
      "outputs": [
        {
          "output_type": "execute_result",
          "data": {
            "text/plain": [
              "[<loc>https://www.pngmart.com/addl-sitemap.xml</loc>,\n",
              " <loc>https://www.pngmart.com/post-sitemap.xml</loc>,\n",
              " <loc>https://www.pngmart.com/post-sitemap2.xml</loc>,\n",
              " <loc>https://www.pngmart.com/post-sitemap3.xml</loc>,\n",
              " <loc>https://www.pngmart.com/post-sitemap4.xml</loc>,\n",
              " <loc>https://www.pngmart.com/post-sitemap5.xml</loc>,\n",
              " <loc>https://www.pngmart.com/post-sitemap6.xml</loc>,\n",
              " <loc>https://www.pngmart.com/post-sitemap7.xml</loc>,\n",
              " <loc>https://www.pngmart.com/post-sitemap8.xml</loc>,\n",
              " <loc>https://www.pngmart.com/post-sitemap9.xml</loc>,\n",
              " <loc>https://www.pngmart.com/post-sitemap10.xml</loc>,\n",
              " <loc>https://www.pngmart.com/post-sitemap11.xml</loc>,\n",
              " <loc>https://www.pngmart.com/post-sitemap12.xml</loc>,\n",
              " <loc>https://www.pngmart.com/post-sitemap13.xml</loc>,\n",
              " <loc>https://www.pngmart.com/post-sitemap14.xml</loc>,\n",
              " <loc>https://www.pngmart.com/post-sitemap15.xml</loc>,\n",
              " <loc>https://www.pngmart.com/post-sitemap16.xml</loc>,\n",
              " <loc>https://www.pngmart.com/post-sitemap17.xml</loc>,\n",
              " <loc>https://www.pngmart.com/post-sitemap18.xml</loc>,\n",
              " <loc>https://www.pngmart.com/post-sitemap19.xml</loc>,\n",
              " <loc>https://www.pngmart.com/post-sitemap20.xml</loc>,\n",
              " <loc>https://www.pngmart.com/post-sitemap21.xml</loc>,\n",
              " <loc>https://www.pngmart.com/post-sitemap22.xml</loc>,\n",
              " <loc>https://www.pngmart.com/post-sitemap23.xml</loc>,\n",
              " <loc>https://www.pngmart.com/post-sitemap24.xml</loc>,\n",
              " <loc>https://www.pngmart.com/post-sitemap25.xml</loc>,\n",
              " <loc>https://www.pngmart.com/post-sitemap26.xml</loc>,\n",
              " <loc>https://www.pngmart.com/post-sitemap27.xml</loc>,\n",
              " <loc>https://www.pngmart.com/post-sitemap28.xml</loc>,\n",
              " <loc>https://www.pngmart.com/post-sitemap29.xml</loc>,\n",
              " <loc>https://www.pngmart.com/post-sitemap30.xml</loc>,\n",
              " <loc>https://www.pngmart.com/post-sitemap31.xml</loc>,\n",
              " <loc>https://www.pngmart.com/post-sitemap32.xml</loc>,\n",
              " <loc>https://www.pngmart.com/post-sitemap33.xml</loc>,\n",
              " <loc>https://www.pngmart.com/post-sitemap34.xml</loc>,\n",
              " <loc>https://www.pngmart.com/post-sitemap35.xml</loc>,\n",
              " <loc>https://www.pngmart.com/post-sitemap36.xml</loc>,\n",
              " <loc>https://www.pngmart.com/post-sitemap37.xml</loc>,\n",
              " <loc>https://www.pngmart.com/post-sitemap38.xml</loc>,\n",
              " <loc>https://www.pngmart.com/post-sitemap39.xml</loc>,\n",
              " <loc>https://www.pngmart.com/post-sitemap40.xml</loc>,\n",
              " <loc>https://www.pngmart.com/post-sitemap41.xml</loc>,\n",
              " <loc>https://www.pngmart.com/post-sitemap42.xml</loc>,\n",
              " <loc>https://www.pngmart.com/post-sitemap43.xml</loc>,\n",
              " <loc>https://www.pngmart.com/post-sitemap44.xml</loc>,\n",
              " <loc>https://www.pngmart.com/post-sitemap45.xml</loc>,\n",
              " <loc>https://www.pngmart.com/post-sitemap46.xml</loc>,\n",
              " <loc>https://www.pngmart.com/post-sitemap47.xml</loc>,\n",
              " <loc>https://www.pngmart.com/post-sitemap48.xml</loc>,\n",
              " <loc>https://www.pngmart.com/post-sitemap49.xml</loc>,\n",
              " <loc>https://www.pngmart.com/post-sitemap50.xml</loc>,\n",
              " <loc>https://www.pngmart.com/post-sitemap51.xml</loc>,\n",
              " <loc>https://www.pngmart.com/post-sitemap52.xml</loc>,\n",
              " <loc>https://www.pngmart.com/post-sitemap53.xml</loc>,\n",
              " <loc>https://www.pngmart.com/post-sitemap54.xml</loc>,\n",
              " <loc>https://www.pngmart.com/post-sitemap55.xml</loc>,\n",
              " <loc>https://www.pngmart.com/post-sitemap56.xml</loc>,\n",
              " <loc>https://www.pngmart.com/post-sitemap57.xml</loc>,\n",
              " <loc>https://www.pngmart.com/post-sitemap58.xml</loc>,\n",
              " <loc>https://www.pngmart.com/post-sitemap59.xml</loc>,\n",
              " <loc>https://www.pngmart.com/post-sitemap60.xml</loc>,\n",
              " <loc>https://www.pngmart.com/post-sitemap61.xml</loc>,\n",
              " <loc>https://www.pngmart.com/post-sitemap62.xml</loc>,\n",
              " <loc>https://www.pngmart.com/post-sitemap63.xml</loc>,\n",
              " <loc>https://www.pngmart.com/post-sitemap64.xml</loc>,\n",
              " <loc>https://www.pngmart.com/post-sitemap65.xml</loc>,\n",
              " <loc>https://www.pngmart.com/post-sitemap66.xml</loc>,\n",
              " <loc>https://www.pngmart.com/post-sitemap67.xml</loc>,\n",
              " <loc>https://www.pngmart.com/post-sitemap68.xml</loc>,\n",
              " <loc>https://www.pngmart.com/post-sitemap69.xml</loc>,\n",
              " <loc>https://www.pngmart.com/post-sitemap70.xml</loc>,\n",
              " <loc>https://www.pngmart.com/post-sitemap71.xml</loc>,\n",
              " <loc>https://www.pngmart.com/post-sitemap72.xml</loc>,\n",
              " <loc>https://www.pngmart.com/post-sitemap73.xml</loc>,\n",
              " <loc>https://www.pngmart.com/post-sitemap74.xml</loc>,\n",
              " <loc>https://www.pngmart.com/post-sitemap75.xml</loc>,\n",
              " <loc>https://www.pngmart.com/post-sitemap76.xml</loc>,\n",
              " <loc>https://www.pngmart.com/post-sitemap77.xml</loc>,\n",
              " <loc>https://www.pngmart.com/post-sitemap78.xml</loc>,\n",
              " <loc>https://www.pngmart.com/post-sitemap79.xml</loc>,\n",
              " <loc>https://www.pngmart.com/post-sitemap80.xml</loc>,\n",
              " <loc>https://www.pngmart.com/post-sitemap81.xml</loc>,\n",
              " <loc>https://www.pngmart.com/post-sitemap82.xml</loc>,\n",
              " <loc>https://www.pngmart.com/post-sitemap83.xml</loc>,\n",
              " <loc>https://www.pngmart.com/post-sitemap84.xml</loc>,\n",
              " <loc>https://www.pngmart.com/post-sitemap85.xml</loc>,\n",
              " <loc>https://www.pngmart.com/post-sitemap86.xml</loc>,\n",
              " <loc>https://www.pngmart.com/post-sitemap87.xml</loc>,\n",
              " <loc>https://www.pngmart.com/post-sitemap88.xml</loc>,\n",
              " <loc>https://www.pngmart.com/post-sitemap89.xml</loc>,\n",
              " <loc>https://www.pngmart.com/post-sitemap90.xml</loc>,\n",
              " <loc>https://www.pngmart.com/post-sitemap91.xml</loc>,\n",
              " <loc>https://www.pngmart.com/post-sitemap92.xml</loc>,\n",
              " <loc>https://www.pngmart.com/post-sitemap93.xml</loc>,\n",
              " <loc>https://www.pngmart.com/post-sitemap94.xml</loc>,\n",
              " <loc>https://www.pngmart.com/post-sitemap95.xml</loc>,\n",
              " <loc>https://www.pngmart.com/post-sitemap96.xml</loc>,\n",
              " <loc>https://www.pngmart.com/post-sitemap97.xml</loc>,\n",
              " <loc>https://www.pngmart.com/post-sitemap98.xml</loc>,\n",
              " <loc>https://www.pngmart.com/post-sitemap99.xml</loc>,\n",
              " <loc>https://www.pngmart.com/post-sitemap100.xml</loc>,\n",
              " <loc>https://www.pngmart.com/post-sitemap101.xml</loc>,\n",
              " <loc>https://www.pngmart.com/post-sitemap102.xml</loc>,\n",
              " <loc>https://www.pngmart.com/post-sitemap103.xml</loc>,\n",
              " <loc>https://www.pngmart.com/post-sitemap104.xml</loc>,\n",
              " <loc>https://www.pngmart.com/post-sitemap105.xml</loc>,\n",
              " <loc>https://www.pngmart.com/post-sitemap106.xml</loc>,\n",
              " <loc>https://www.pngmart.com/post-sitemap107.xml</loc>,\n",
              " <loc>https://www.pngmart.com/post-sitemap108.xml</loc>,\n",
              " <loc>https://www.pngmart.com/post-sitemap109.xml</loc>,\n",
              " <loc>https://www.pngmart.com/post-sitemap110.xml</loc>,\n",
              " <loc>https://www.pngmart.com/post-sitemap111.xml</loc>,\n",
              " <loc>https://www.pngmart.com/post-sitemap112.xml</loc>,\n",
              " <loc>https://www.pngmart.com/post-sitemap113.xml</loc>,\n",
              " <loc>https://www.pngmart.com/post-sitemap114.xml</loc>,\n",
              " <loc>https://www.pngmart.com/post-sitemap115.xml</loc>,\n",
              " <loc>https://www.pngmart.com/post-sitemap116.xml</loc>,\n",
              " <loc>https://www.pngmart.com/post-sitemap117.xml</loc>,\n",
              " <loc>https://www.pngmart.com/post-sitemap118.xml</loc>,\n",
              " <loc>https://www.pngmart.com/post-sitemap119.xml</loc>,\n",
              " <loc>https://www.pngmart.com/post-sitemap120.xml</loc>,\n",
              " <loc>https://www.pngmart.com/post-sitemap121.xml</loc>,\n",
              " <loc>https://www.pngmart.com/post-sitemap122.xml</loc>,\n",
              " <loc>https://www.pngmart.com/post-sitemap123.xml</loc>,\n",
              " <loc>https://www.pngmart.com/post-sitemap124.xml</loc>,\n",
              " <loc>https://www.pngmart.com/post-sitemap125.xml</loc>,\n",
              " <loc>https://www.pngmart.com/post-sitemap126.xml</loc>,\n",
              " <loc>https://www.pngmart.com/post-sitemap127.xml</loc>,\n",
              " <loc>https://www.pngmart.com/post-sitemap128.xml</loc>,\n",
              " <loc>https://www.pngmart.com/post-sitemap129.xml</loc>,\n",
              " <loc>https://www.pngmart.com/post-sitemap130.xml</loc>,\n",
              " <loc>https://www.pngmart.com/post-sitemap131.xml</loc>,\n",
              " <loc>https://www.pngmart.com/post-sitemap132.xml</loc>,\n",
              " <loc>https://www.pngmart.com/post-sitemap133.xml</loc>,\n",
              " <loc>https://www.pngmart.com/post-sitemap134.xml</loc>,\n",
              " <loc>https://www.pngmart.com/post-sitemap135.xml</loc>,\n",
              " <loc>https://www.pngmart.com/post-sitemap136.xml</loc>,\n",
              " <loc>https://www.pngmart.com/post-sitemap137.xml</loc>,\n",
              " <loc>https://www.pngmart.com/post-sitemap138.xml</loc>,\n",
              " <loc>https://www.pngmart.com/post-sitemap139.xml</loc>,\n",
              " <loc>https://www.pngmart.com/post-sitemap140.xml</loc>,\n",
              " <loc>https://www.pngmart.com/post-sitemap141.xml</loc>,\n",
              " <loc>https://www.pngmart.com/post-sitemap142.xml</loc>,\n",
              " <loc>https://www.pngmart.com/post-sitemap143.xml</loc>,\n",
              " <loc>https://www.pngmart.com/post-sitemap144.xml</loc>,\n",
              " <loc>https://www.pngmart.com/post-sitemap145.xml</loc>,\n",
              " <loc>https://www.pngmart.com/post-sitemap146.xml</loc>,\n",
              " <loc>https://www.pngmart.com/post-sitemap147.xml</loc>,\n",
              " <loc>https://www.pngmart.com/post-sitemap148.xml</loc>,\n",
              " <loc>https://www.pngmart.com/post-sitemap149.xml</loc>,\n",
              " <loc>https://www.pngmart.com/post-sitemap150.xml</loc>,\n",
              " <loc>https://www.pngmart.com/post-sitemap151.xml</loc>,\n",
              " <loc>https://www.pngmart.com/post-sitemap152.xml</loc>,\n",
              " <loc>https://www.pngmart.com/post-sitemap153.xml</loc>,\n",
              " <loc>https://www.pngmart.com/post-sitemap154.xml</loc>,\n",
              " <loc>https://www.pngmart.com/post-sitemap155.xml</loc>,\n",
              " <loc>https://www.pngmart.com/post-sitemap156.xml</loc>,\n",
              " <loc>https://www.pngmart.com/post-sitemap157.xml</loc>,\n",
              " <loc>https://www.pngmart.com/post-sitemap158.xml</loc>,\n",
              " <loc>https://www.pngmart.com/post-sitemap159.xml</loc>,\n",
              " <loc>https://www.pngmart.com/post-sitemap160.xml</loc>,\n",
              " <loc>https://www.pngmart.com/post-sitemap161.xml</loc>,\n",
              " <loc>https://www.pngmart.com/post-sitemap162.xml</loc>,\n",
              " <loc>https://www.pngmart.com/post-sitemap163.xml</loc>,\n",
              " <loc>https://www.pngmart.com/post-sitemap164.xml</loc>,\n",
              " <loc>https://www.pngmart.com/post-sitemap165.xml</loc>,\n",
              " <loc>https://www.pngmart.com/post-sitemap166.xml</loc>,\n",
              " <loc>https://www.pngmart.com/post-sitemap167.xml</loc>,\n",
              " <loc>https://www.pngmart.com/post-sitemap168.xml</loc>,\n",
              " <loc>https://www.pngmart.com/post-sitemap169.xml</loc>,\n",
              " <loc>https://www.pngmart.com/post-sitemap170.xml</loc>,\n",
              " <loc>https://www.pngmart.com/post-sitemap171.xml</loc>,\n",
              " <loc>https://www.pngmart.com/post-sitemap172.xml</loc>,\n",
              " <loc>https://www.pngmart.com/post-sitemap173.xml</loc>,\n",
              " <loc>https://www.pngmart.com/post-sitemap174.xml</loc>,\n",
              " <loc>https://www.pngmart.com/post-sitemap175.xml</loc>,\n",
              " <loc>https://www.pngmart.com/post-sitemap176.xml</loc>,\n",
              " <loc>https://www.pngmart.com/post-sitemap177.xml</loc>,\n",
              " <loc>https://www.pngmart.com/post-sitemap178.xml</loc>,\n",
              " <loc>https://www.pngmart.com/post-sitemap179.xml</loc>,\n",
              " <loc>https://www.pngmart.com/post-sitemap180.xml</loc>,\n",
              " <loc>https://www.pngmart.com/post-sitemap181.xml</loc>,\n",
              " <loc>https://www.pngmart.com/post-sitemap182.xml</loc>,\n",
              " <loc>https://www.pngmart.com/post-sitemap183.xml</loc>,\n",
              " <loc>https://www.pngmart.com/post-sitemap184.xml</loc>,\n",
              " <loc>https://www.pngmart.com/post-sitemap185.xml</loc>,\n",
              " <loc>https://www.pngmart.com/post-sitemap186.xml</loc>,\n",
              " <loc>https://www.pngmart.com/post-sitemap187.xml</loc>,\n",
              " <loc>https://www.pngmart.com/post-sitemap188.xml</loc>,\n",
              " <loc>https://www.pngmart.com/post-sitemap189.xml</loc>,\n",
              " <loc>https://www.pngmart.com/post-sitemap190.xml</loc>,\n",
              " <loc>https://www.pngmart.com/post-sitemap191.xml</loc>,\n",
              " <loc>https://www.pngmart.com/post-sitemap192.xml</loc>,\n",
              " <loc>https://www.pngmart.com/post-sitemap193.xml</loc>,\n",
              " <loc>https://www.pngmart.com/post-sitemap194.xml</loc>,\n",
              " <loc>https://www.pngmart.com/post-sitemap195.xml</loc>,\n",
              " <loc>https://www.pngmart.com/post-sitemap196.xml</loc>,\n",
              " <loc>https://www.pngmart.com/page-sitemap.xml</loc>,\n",
              " <loc>https://www.pngmart.com/category-sitemap.xml</loc>,\n",
              " <loc>https://www.pngmart.com/post_tag-sitemap.xml</loc>,\n",
              " <loc>https://www.pngmart.com/post_tag-sitemap2.xml</loc>,\n",
              " <loc>https://www.pngmart.com/post_tag-sitemap3.xml</loc>,\n",
              " <loc>https://www.pngmart.com/post_tag-sitemap4.xml</loc>,\n",
              " <loc>https://www.pngmart.com/post_tag-sitemap5.xml</loc>,\n",
              " <loc>https://www.pngmart.com/post_tag-sitemap6.xml</loc>,\n",
              " <loc>https://www.pngmart.com/post_tag-sitemap7.xml</loc>,\n",
              " <loc>https://www.pngmart.com/post_tag-sitemap8.xml</loc>,\n",
              " <loc>https://www.pngmart.com/post_tag-sitemap9.xml</loc>,\n",
              " <loc>https://www.pngmart.com/post_tag-sitemap10.xml</loc>,\n",
              " <loc>https://www.pngmart.com/post_tag-sitemap11.xml</loc>,\n",
              " <loc>https://www.pngmart.com/post_tag-sitemap12.xml</loc>]"
            ]
          },
          "metadata": {},
          "execution_count": 7
        }
      ]
    },
    {
      "cell_type": "code",
      "source": [
        "site_maps = []\n",
        "for loc in soup.find_all('loc'):\n",
        "  url=loc.text\n",
        "  if \"post-sitemap\" in url:\n",
        "    print(loc.text)\n",
        "    site_maps.append(url)"
      ],
      "metadata": {
        "id": "U4DeOFykcKMs",
        "outputId": "5490e705-1f78-437a-c58f-8e8deaa09f70",
        "colab": {
          "base_uri": "https://localhost:8080/"
        }
      },
      "execution_count": 8,
      "outputs": [
        {
          "output_type": "stream",
          "name": "stdout",
          "text": [
            "https://www.pngmart.com/post-sitemap.xml\n",
            "https://www.pngmart.com/post-sitemap2.xml\n",
            "https://www.pngmart.com/post-sitemap3.xml\n",
            "https://www.pngmart.com/post-sitemap4.xml\n",
            "https://www.pngmart.com/post-sitemap5.xml\n",
            "https://www.pngmart.com/post-sitemap6.xml\n",
            "https://www.pngmart.com/post-sitemap7.xml\n",
            "https://www.pngmart.com/post-sitemap8.xml\n",
            "https://www.pngmart.com/post-sitemap9.xml\n",
            "https://www.pngmart.com/post-sitemap10.xml\n",
            "https://www.pngmart.com/post-sitemap11.xml\n",
            "https://www.pngmart.com/post-sitemap12.xml\n",
            "https://www.pngmart.com/post-sitemap13.xml\n",
            "https://www.pngmart.com/post-sitemap14.xml\n",
            "https://www.pngmart.com/post-sitemap15.xml\n",
            "https://www.pngmart.com/post-sitemap16.xml\n",
            "https://www.pngmart.com/post-sitemap17.xml\n",
            "https://www.pngmart.com/post-sitemap18.xml\n",
            "https://www.pngmart.com/post-sitemap19.xml\n",
            "https://www.pngmart.com/post-sitemap20.xml\n",
            "https://www.pngmart.com/post-sitemap21.xml\n",
            "https://www.pngmart.com/post-sitemap22.xml\n",
            "https://www.pngmart.com/post-sitemap23.xml\n",
            "https://www.pngmart.com/post-sitemap24.xml\n",
            "https://www.pngmart.com/post-sitemap25.xml\n",
            "https://www.pngmart.com/post-sitemap26.xml\n",
            "https://www.pngmart.com/post-sitemap27.xml\n",
            "https://www.pngmart.com/post-sitemap28.xml\n",
            "https://www.pngmart.com/post-sitemap29.xml\n",
            "https://www.pngmart.com/post-sitemap30.xml\n",
            "https://www.pngmart.com/post-sitemap31.xml\n",
            "https://www.pngmart.com/post-sitemap32.xml\n",
            "https://www.pngmart.com/post-sitemap33.xml\n",
            "https://www.pngmart.com/post-sitemap34.xml\n",
            "https://www.pngmart.com/post-sitemap35.xml\n",
            "https://www.pngmart.com/post-sitemap36.xml\n",
            "https://www.pngmart.com/post-sitemap37.xml\n",
            "https://www.pngmart.com/post-sitemap38.xml\n",
            "https://www.pngmart.com/post-sitemap39.xml\n",
            "https://www.pngmart.com/post-sitemap40.xml\n",
            "https://www.pngmart.com/post-sitemap41.xml\n",
            "https://www.pngmart.com/post-sitemap42.xml\n",
            "https://www.pngmart.com/post-sitemap43.xml\n",
            "https://www.pngmart.com/post-sitemap44.xml\n",
            "https://www.pngmart.com/post-sitemap45.xml\n",
            "https://www.pngmart.com/post-sitemap46.xml\n",
            "https://www.pngmart.com/post-sitemap47.xml\n",
            "https://www.pngmart.com/post-sitemap48.xml\n",
            "https://www.pngmart.com/post-sitemap49.xml\n",
            "https://www.pngmart.com/post-sitemap50.xml\n",
            "https://www.pngmart.com/post-sitemap51.xml\n",
            "https://www.pngmart.com/post-sitemap52.xml\n",
            "https://www.pngmart.com/post-sitemap53.xml\n",
            "https://www.pngmart.com/post-sitemap54.xml\n",
            "https://www.pngmart.com/post-sitemap55.xml\n",
            "https://www.pngmart.com/post-sitemap56.xml\n",
            "https://www.pngmart.com/post-sitemap57.xml\n",
            "https://www.pngmart.com/post-sitemap58.xml\n",
            "https://www.pngmart.com/post-sitemap59.xml\n",
            "https://www.pngmart.com/post-sitemap60.xml\n",
            "https://www.pngmart.com/post-sitemap61.xml\n",
            "https://www.pngmart.com/post-sitemap62.xml\n",
            "https://www.pngmart.com/post-sitemap63.xml\n",
            "https://www.pngmart.com/post-sitemap64.xml\n",
            "https://www.pngmart.com/post-sitemap65.xml\n",
            "https://www.pngmart.com/post-sitemap66.xml\n",
            "https://www.pngmart.com/post-sitemap67.xml\n",
            "https://www.pngmart.com/post-sitemap68.xml\n",
            "https://www.pngmart.com/post-sitemap69.xml\n",
            "https://www.pngmart.com/post-sitemap70.xml\n",
            "https://www.pngmart.com/post-sitemap71.xml\n",
            "https://www.pngmart.com/post-sitemap72.xml\n",
            "https://www.pngmart.com/post-sitemap73.xml\n",
            "https://www.pngmart.com/post-sitemap74.xml\n",
            "https://www.pngmart.com/post-sitemap75.xml\n",
            "https://www.pngmart.com/post-sitemap76.xml\n",
            "https://www.pngmart.com/post-sitemap77.xml\n",
            "https://www.pngmart.com/post-sitemap78.xml\n",
            "https://www.pngmart.com/post-sitemap79.xml\n",
            "https://www.pngmart.com/post-sitemap80.xml\n",
            "https://www.pngmart.com/post-sitemap81.xml\n",
            "https://www.pngmart.com/post-sitemap82.xml\n",
            "https://www.pngmart.com/post-sitemap83.xml\n",
            "https://www.pngmart.com/post-sitemap84.xml\n",
            "https://www.pngmart.com/post-sitemap85.xml\n",
            "https://www.pngmart.com/post-sitemap86.xml\n",
            "https://www.pngmart.com/post-sitemap87.xml\n",
            "https://www.pngmart.com/post-sitemap88.xml\n",
            "https://www.pngmart.com/post-sitemap89.xml\n",
            "https://www.pngmart.com/post-sitemap90.xml\n",
            "https://www.pngmart.com/post-sitemap91.xml\n",
            "https://www.pngmart.com/post-sitemap92.xml\n",
            "https://www.pngmart.com/post-sitemap93.xml\n",
            "https://www.pngmart.com/post-sitemap94.xml\n",
            "https://www.pngmart.com/post-sitemap95.xml\n",
            "https://www.pngmart.com/post-sitemap96.xml\n",
            "https://www.pngmart.com/post-sitemap97.xml\n",
            "https://www.pngmart.com/post-sitemap98.xml\n",
            "https://www.pngmart.com/post-sitemap99.xml\n",
            "https://www.pngmart.com/post-sitemap100.xml\n",
            "https://www.pngmart.com/post-sitemap101.xml\n",
            "https://www.pngmart.com/post-sitemap102.xml\n",
            "https://www.pngmart.com/post-sitemap103.xml\n",
            "https://www.pngmart.com/post-sitemap104.xml\n",
            "https://www.pngmart.com/post-sitemap105.xml\n",
            "https://www.pngmart.com/post-sitemap106.xml\n",
            "https://www.pngmart.com/post-sitemap107.xml\n",
            "https://www.pngmart.com/post-sitemap108.xml\n",
            "https://www.pngmart.com/post-sitemap109.xml\n",
            "https://www.pngmart.com/post-sitemap110.xml\n",
            "https://www.pngmart.com/post-sitemap111.xml\n",
            "https://www.pngmart.com/post-sitemap112.xml\n",
            "https://www.pngmart.com/post-sitemap113.xml\n",
            "https://www.pngmart.com/post-sitemap114.xml\n",
            "https://www.pngmart.com/post-sitemap115.xml\n",
            "https://www.pngmart.com/post-sitemap116.xml\n",
            "https://www.pngmart.com/post-sitemap117.xml\n",
            "https://www.pngmart.com/post-sitemap118.xml\n",
            "https://www.pngmart.com/post-sitemap119.xml\n",
            "https://www.pngmart.com/post-sitemap120.xml\n",
            "https://www.pngmart.com/post-sitemap121.xml\n",
            "https://www.pngmart.com/post-sitemap122.xml\n",
            "https://www.pngmart.com/post-sitemap123.xml\n",
            "https://www.pngmart.com/post-sitemap124.xml\n",
            "https://www.pngmart.com/post-sitemap125.xml\n",
            "https://www.pngmart.com/post-sitemap126.xml\n",
            "https://www.pngmart.com/post-sitemap127.xml\n",
            "https://www.pngmart.com/post-sitemap128.xml\n",
            "https://www.pngmart.com/post-sitemap129.xml\n",
            "https://www.pngmart.com/post-sitemap130.xml\n",
            "https://www.pngmart.com/post-sitemap131.xml\n",
            "https://www.pngmart.com/post-sitemap132.xml\n",
            "https://www.pngmart.com/post-sitemap133.xml\n",
            "https://www.pngmart.com/post-sitemap134.xml\n",
            "https://www.pngmart.com/post-sitemap135.xml\n",
            "https://www.pngmart.com/post-sitemap136.xml\n",
            "https://www.pngmart.com/post-sitemap137.xml\n",
            "https://www.pngmart.com/post-sitemap138.xml\n",
            "https://www.pngmart.com/post-sitemap139.xml\n",
            "https://www.pngmart.com/post-sitemap140.xml\n",
            "https://www.pngmart.com/post-sitemap141.xml\n",
            "https://www.pngmart.com/post-sitemap142.xml\n",
            "https://www.pngmart.com/post-sitemap143.xml\n",
            "https://www.pngmart.com/post-sitemap144.xml\n",
            "https://www.pngmart.com/post-sitemap145.xml\n",
            "https://www.pngmart.com/post-sitemap146.xml\n",
            "https://www.pngmart.com/post-sitemap147.xml\n",
            "https://www.pngmart.com/post-sitemap148.xml\n",
            "https://www.pngmart.com/post-sitemap149.xml\n",
            "https://www.pngmart.com/post-sitemap150.xml\n",
            "https://www.pngmart.com/post-sitemap151.xml\n",
            "https://www.pngmart.com/post-sitemap152.xml\n",
            "https://www.pngmart.com/post-sitemap153.xml\n",
            "https://www.pngmart.com/post-sitemap154.xml\n",
            "https://www.pngmart.com/post-sitemap155.xml\n",
            "https://www.pngmart.com/post-sitemap156.xml\n",
            "https://www.pngmart.com/post-sitemap157.xml\n",
            "https://www.pngmart.com/post-sitemap158.xml\n",
            "https://www.pngmart.com/post-sitemap159.xml\n",
            "https://www.pngmart.com/post-sitemap160.xml\n",
            "https://www.pngmart.com/post-sitemap161.xml\n",
            "https://www.pngmart.com/post-sitemap162.xml\n",
            "https://www.pngmart.com/post-sitemap163.xml\n",
            "https://www.pngmart.com/post-sitemap164.xml\n",
            "https://www.pngmart.com/post-sitemap165.xml\n",
            "https://www.pngmart.com/post-sitemap166.xml\n",
            "https://www.pngmart.com/post-sitemap167.xml\n",
            "https://www.pngmart.com/post-sitemap168.xml\n",
            "https://www.pngmart.com/post-sitemap169.xml\n",
            "https://www.pngmart.com/post-sitemap170.xml\n",
            "https://www.pngmart.com/post-sitemap171.xml\n",
            "https://www.pngmart.com/post-sitemap172.xml\n",
            "https://www.pngmart.com/post-sitemap173.xml\n",
            "https://www.pngmart.com/post-sitemap174.xml\n",
            "https://www.pngmart.com/post-sitemap175.xml\n",
            "https://www.pngmart.com/post-sitemap176.xml\n",
            "https://www.pngmart.com/post-sitemap177.xml\n",
            "https://www.pngmart.com/post-sitemap178.xml\n",
            "https://www.pngmart.com/post-sitemap179.xml\n",
            "https://www.pngmart.com/post-sitemap180.xml\n",
            "https://www.pngmart.com/post-sitemap181.xml\n",
            "https://www.pngmart.com/post-sitemap182.xml\n",
            "https://www.pngmart.com/post-sitemap183.xml\n",
            "https://www.pngmart.com/post-sitemap184.xml\n",
            "https://www.pngmart.com/post-sitemap185.xml\n",
            "https://www.pngmart.com/post-sitemap186.xml\n",
            "https://www.pngmart.com/post-sitemap187.xml\n",
            "https://www.pngmart.com/post-sitemap188.xml\n",
            "https://www.pngmart.com/post-sitemap189.xml\n",
            "https://www.pngmart.com/post-sitemap190.xml\n",
            "https://www.pngmart.com/post-sitemap191.xml\n",
            "https://www.pngmart.com/post-sitemap192.xml\n",
            "https://www.pngmart.com/post-sitemap193.xml\n",
            "https://www.pngmart.com/post-sitemap194.xml\n",
            "https://www.pngmart.com/post-sitemap195.xml\n",
            "https://www.pngmart.com/post-sitemap196.xml\n"
          ]
        }
      ]
    },
    {
      "cell_type": "code",
      "source": [
        "site_maps[0]"
      ],
      "metadata": {
        "colab": {
          "base_uri": "https://localhost:8080/",
          "height": 35
        },
        "id": "yArwP7tyi1qP",
        "outputId": "f8bdbdc8-cab8-4029-e85a-00f0784a8fad"
      },
      "execution_count": 9,
      "outputs": [
        {
          "output_type": "execute_result",
          "data": {
            "text/plain": [
              "'https://www.pngmart.com/post-sitemap.xml'"
            ],
            "application/vnd.google.colaboratory.intrinsic+json": {
              "type": "string"
            }
          },
          "metadata": {},
          "execution_count": 9
        }
      ]
    },
    {
      "cell_type": "code",
      "source": [
        "response = requests.get(site_maps[0],'xml')"
      ],
      "metadata": {
        "id": "HtclyCiZeA5-"
      },
      "execution_count": 10,
      "outputs": []
    },
    {
      "cell_type": "code",
      "source": [
        "response"
      ],
      "metadata": {
        "id": "hw_lEcXMeD4A",
        "outputId": "6b4890bf-9b9a-4497-87fb-9fa4d4637978",
        "colab": {
          "base_uri": "https://localhost:8080/"
        }
      },
      "execution_count": 11,
      "outputs": [
        {
          "output_type": "execute_result",
          "data": {
            "text/plain": [
              "<Response [200]>"
            ]
          },
          "metadata": {},
          "execution_count": 11
        }
      ]
    },
    {
      "cell_type": "code",
      "source": [
        "soup =BeautifulSoup(response.text,'xml')"
      ],
      "metadata": {
        "id": "ZBREZ8-oeRMB"
      },
      "execution_count": 12,
      "outputs": []
    },
    {
      "cell_type": "code",
      "source": [
        "#Creating a master_list that will store the image url's\n",
        "master_list = []\n",
        "for loc in soup.find_all('loc'):\n",
        "  url=loc.text\n",
        "  master_list.append(url)"
      ],
      "metadata": {
        "id": "pkAFKr4seTWP"
      },
      "execution_count": 13,
      "outputs": []
    },
    {
      "cell_type": "code",
      "source": [
        "master_list[0:5]"
      ],
      "metadata": {
        "id": "9QxHqsz6gjtb",
        "outputId": "054494a7-8062-4caa-f43b-1ca6ad56cc61",
        "colab": {
          "base_uri": "https://localhost:8080/"
        }
      },
      "execution_count": 14,
      "outputs": [
        {
          "output_type": "execute_result",
          "data": {
            "text/plain": [
              "['https://www.pngmart.com/image/618203',\n",
              " 'https://www.pngmart.com/image/618207',\n",
              " 'https://www.pngmart.com/image/618205',\n",
              " 'https://www.pngmart.com/image/618213',\n",
              " 'https://www.pngmart.com/image/618211']"
            ]
          },
          "metadata": {},
          "execution_count": 14
        }
      ]
    },
    {
      "cell_type": "markdown",
      "source": [
        "We have now found a way to find the individual image URLs and we can now visit each one of the "
      ],
      "metadata": {
        "id": "-E086tUOjs1u"
      }
    },
    {
      "cell_type": "code",
      "source": [
        "len(master_list)"
      ],
      "metadata": {
        "id": "ypHrRJPognA0",
        "outputId": "08b2e857-135d-47fa-ae27-d5eaa006ef9f",
        "colab": {
          "base_uri": "https://localhost:8080/"
        }
      },
      "execution_count": 15,
      "outputs": [
        {
          "output_type": "execute_result",
          "data": {
            "text/plain": [
              "1000"
            ]
          },
          "metadata": {},
          "execution_count": 15
        }
      ]
    },
    {
      "cell_type": "code",
      "source": [
        "#Downloading the images to disk \n",
        "for image_url in master_list[0:10]:\n",
        "  print(image_url)\n",
        "  response = requests.get(image_url)\n",
        "  soup = BeautifulSoup(response.text, 'html.parser')\n",
        "  png_url = soup.find('a', {'class':'download'})['href']\n",
        "  image = requests.get(png_url)\n",
        "  image_title = f\"{image_url.split('/')[-1]}-{png_url.split('/')[-1]}\"\n",
        "  \n",
        "  with open(image_title,'wb') as f:\n",
        "    f.write(image.content)\n",
        "  "
      ],
      "metadata": {
        "id": "INJFR9zFiFHP",
        "outputId": "05b548f6-0c4a-4873-9777-6d79f4e842f9",
        "colab": {
          "base_uri": "https://localhost:8080/"
        }
      },
      "execution_count": 16,
      "outputs": [
        {
          "output_type": "stream",
          "name": "stdout",
          "text": [
            "https://www.pngmart.com/image/618203\n",
            "https://www.pngmart.com/image/618207\n",
            "https://www.pngmart.com/image/618205\n",
            "https://www.pngmart.com/image/618213\n",
            "https://www.pngmart.com/image/618211\n",
            "https://www.pngmart.com/image/618209\n",
            "https://www.pngmart.com/image/618217\n",
            "https://www.pngmart.com/image/618215\n",
            "https://www.pngmart.com/image/618219\n",
            "https://www.pngmart.com/image/618221\n"
          ]
        }
      ]
    },
    {
      "cell_type": "code",
      "source": [
        "def get_images(number_of_sitemaps, number_of_images):\n",
        "\n",
        "  #Defining the sitemap we want to scrape\n",
        "  site_map = 'https://www.pngmart.com/sitemap.xml'\n",
        "\n",
        "  #Getting a response from the site \n",
        "  response = requests.get(site_map)\n",
        "\n",
        "  #Extracting the text form the response \n",
        "  xml = response.text\n",
        "\n",
        "  #Creating a BeautifulSoup object with the response\n",
        "  soup = BeautifulSoup(xml,'xml')\n",
        "\n",
        "  #Appending the desired sitemaps to a list \n",
        "  site_maps = [loc.text for loc in soup.find_all('loc') if \"post-sitemap\" in loc.text][0 : number_of_sitemaps]\n",
        "\n",
        "  for site in site_maps:\n",
        "    response = requests.get(site,'xml')\n",
        "    soup =BeautifulSoup(response.text,'xml')\n",
        "\n",
        "    #Creating a master list to store the image url's in a sitemap \n",
        "    master_list = [loc.text for loc in soup.find_all('loc')][0 : number_of_images]\n",
        "\n",
        "    #Downloading the images with unique names \n",
        "    for image_url in master_list:\n",
        "      print(image_url) #This print statement is for testing please remove to save on memory\n",
        "      response = requests.get(image_url)\n",
        "      soup = BeautifulSoup(response.text, 'html.parser')\n",
        "      png_url = soup.find('a', {'class':'download'})['href']\n",
        "      image = requests.get(png_url)\n",
        "      image_title = f\"{image_url.split('/')[-1]}-{png_url.split('/')[-1]}\"\n",
        "  \n",
        "      with open(image_title,'wb') as f:\n",
        "        f.write(image.content)\n",
        "\n",
        "      print(f'The image {image_title} has been downloaded to disk') #This print statement is for testing please remove to save on memory"
      ],
      "metadata": {
        "id": "fsc7EpbQsr4P"
      },
      "execution_count": 4,
      "outputs": []
    },
    {
      "cell_type": "code",
      "source": [
        "get_images(20,2)"
      ],
      "metadata": {
        "id": "Ah7D82UXzFg7",
        "outputId": "f1aa30a6-cf73-44d7-8381-e92cf93918f2",
        "colab": {
          "base_uri": "https://localhost:8080/"
        }
      },
      "execution_count": 7,
      "outputs": [
        {
          "output_type": "stream",
          "name": "stdout",
          "text": [
            "https://www.pngmart.com/image/618203\n",
            "the image 618203-Millionaire-Download-PNG-Image.png has been downloaded to disk\n",
            "https://www.pngmart.com/image/618207\n",
            "the image 618207-Millionaire-PNG-File.png has been downloaded to disk\n",
            "https://www.pngmart.com/image/632308\n",
            "the image 632308-Google-Chrome-Logo-PNG-HD-1.png has been downloaded to disk\n",
            "https://www.pngmart.com/image/632706\n",
            "the image 632706-Ram-Logo-PNG-Clipart.png has been downloaded to disk\n",
            "https://www.pngmart.com/image/626255\n",
            "the image 626255-Heb-Logo-PNG-Pic.png has been downloaded to disk\n",
            "https://www.pngmart.com/image/626453\n",
            "the image 626453-Hogwarts-Logo-PNG-Isolated-Image.png has been downloaded to disk\n",
            "https://www.pngmart.com/image/628319\n",
            "the image 628319-Michelob-Ultra-Logo-PNG-Transparent.png has been downloaded to disk\n",
            "https://www.pngmart.com/image/627527\n",
            "the image 627527-Levis-Logo-PNG-Picture.png has been downloaded to disk\n",
            "https://www.pngmart.com/image/623125\n",
            "the image 623125-Chick-Fil-A-Logo-PNG-HD.png has been downloaded to disk\n",
            "https://www.pngmart.com/image/622723\n",
            "the image 622723-Cavs-Logo-PNG-Photo.png has been downloaded to disk\n",
            "https://www.pngmart.com/image/618115\n",
            "the image 618115-Mi-PNG-Photos.png has been downloaded to disk\n",
            "https://www.pngmart.com/image/618183\n",
            "the image 618183-Milad-PNG-Clipart.png has been downloaded to disk\n",
            "https://www.pngmart.com/image/608542\n",
            "the image 608542-Beared-PNG-Photos.png has been downloaded to disk\n",
            "https://www.pngmart.com/image/608540\n",
            "the image 608540-Beared-PNG-Photo.png has been downloaded to disk\n",
            "https://www.pngmart.com/image/613094\n",
            "the image 613094-Coat-Of-Arms-PNG-HD-Isolated.png has been downloaded to disk\n",
            "https://www.pngmart.com/image/609300\n",
            "the image 609300-Choco-Splash-PNG-HD-Isolated.png has been downloaded to disk\n",
            "https://www.pngmart.com/image/613824\n",
            "the image 613824-Flower-Bush-PNG-Image.png has been downloaded to disk\n",
            "https://www.pngmart.com/image/613822\n",
            "the image 613822-Flower-Bush-PNG-File.png has been downloaded to disk\n",
            "https://www.pngmart.com/image/346270\n",
            "the image 346270-Monkey-PNG-Photo.png has been downloaded to disk\n",
            "https://www.pngmart.com/image/345848\n",
            "the image 345848-Badger-PNG-Isolated-Image.png has been downloaded to disk\n",
            "https://www.pngmart.com/image/347654\n",
            "the image 347654-White-Rhinoceros-PNG-HD-Isolated.png has been downloaded to disk\n",
            "https://www.pngmart.com/image/348064\n",
            "the image 348064-Vulture-PNG-HD-Isolated.png has been downloaded to disk\n",
            "https://www.pngmart.com/image/350258\n",
            "the image 350258-Whale-Background-Isolated-PNG.png has been downloaded to disk\n",
            "https://www.pngmart.com/image/349870\n",
            "the image 349870-Peacock-PNG-Pic.png has been downloaded to disk\n",
            "https://www.pngmart.com/image/352064\n",
            "the image 352064-Naruto-Uzumaki-PNG-Isolated-Pic.png has been downloaded to disk\n",
            "https://www.pngmart.com/image/352066\n",
            "the image 352066-Naruto-Uzumaki-PNG-Photo.png has been downloaded to disk\n",
            "https://www.pngmart.com/image/354288\n",
            "the image 354288-Logitech-PNG-HD-Isolated.png has been downloaded to disk\n",
            "https://www.pngmart.com/image/353878\n",
            "the image 353878-Nestle-Logo-PNG-Photos.png has been downloaded to disk\n",
            "https://www.pngmart.com/image/356410\n",
            "the image 356410-Opera-Logo-PNG-Clipart.png has been downloaded to disk\n",
            "https://www.pngmart.com/image/355978\n",
            "the image 355978-Pinterest-Logo-Transparent-Isolated-Images-PNG.png has been downloaded to disk\n",
            "https://www.pngmart.com/image/357952\n",
            "the image 357952-Duracell-Battery-PNG-Isolated-Pic.png has been downloaded to disk\n",
            "https://www.pngmart.com/image/358150\n",
            "the image 358150-DC-Logo-PNG-Isolated-File.png has been downloaded to disk\n",
            "https://www.pngmart.com/image/359648\n",
            "the image 359648-Exeggutor-Pokemon-PNG-Isolated-HD-Pictures.png has been downloaded to disk\n",
            "https://www.pngmart.com/image/360054\n",
            "the image 360054-Croagunk-Pokemon-PNG-Free-Download.png has been downloaded to disk\n",
            "https://www.pngmart.com/image/362252\n",
            "the image 362252-Electrode-Pokemon-PNG-Transparent.png has been downloaded to disk\n",
            "https://www.pngmart.com/image/361846\n",
            "the image 361846-Jangmo-o-Pokemon-PNG-Transparent.png has been downloaded to disk\n",
            "https://www.pngmart.com/image/364050\n",
            "the image 364050-Gourgeist-Pokemon-PNG-Isolated-File.png has been downloaded to disk\n",
            "https://www.pngmart.com/image/363654\n",
            "the image 363654-Eevee-Pokemon-PNG-Background-Image.png has been downloaded to disk\n",
            "https://www.pngmart.com/image/365648\n",
            "the image 365648-Goodra-Pokemon-PNG-Photo.png has been downloaded to disk\n",
            "https://www.pngmart.com/image/366052\n",
            "the image 366052-Hoothoot-Pokemon-PNG-Isolated-Image.png has been downloaded to disk\n"
          ]
        }
      ]
    },
    {
      "cell_type": "markdown",
      "source": [
        "We can see that the function above has generated 40 images as instructed there are additional measures that can be placed like limiting the range of the params that the user can input but when the code does go into production the ultimate goal is to download all the images which means that the variables `number_of_sitemaps` and  `number_of_images` and their accompanying slicers will be removed. It is also advisable to run it over multiple days keeping track of which sitemaps have been scraped and how many images were downloaded from each to make sure that you do not overburden the hosting website with requests."
      ],
      "metadata": {
        "id": "hTQDgVL1053A"
      }
    },
    {
      "cell_type": "code",
      "source": [],
      "metadata": {
        "id": "fL-6h_1nzqoF"
      },
      "execution_count": null,
      "outputs": []
    }
  ]
}