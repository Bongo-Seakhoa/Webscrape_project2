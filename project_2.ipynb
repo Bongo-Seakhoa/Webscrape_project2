{
  "nbformat": 4,
  "nbformat_minor": 0,
  "metadata": {
    "colab": {
      "provenance": [],
      "gpuType": "T4",
      "authorship_tag": "ABX9TyOjy8YqCWdS5DzJXQyrY8Gk",
      "include_colab_link": true
    },
    "kernelspec": {
      "name": "python3",
      "display_name": "Python 3"
    },
    "language_info": {
      "name": "python"
    },
    "accelerator": "GPU",
    "gpuClass": "standard"
  },
  "cells": [
    {
      "cell_type": "markdown",
      "metadata": {
        "id": "view-in-github",
        "colab_type": "text"
      },
      "source": [
        "<a href=\"https://colab.research.google.com/github/Bongo-Seakhoa/Webscrape_project_2/blob/main/project_2.ipynb\" target=\"_parent\"><img src=\"https://colab.research.google.com/assets/colab-badge.svg\" alt=\"Open In Colab\"/></a>"
      ]
    },
    {
      "cell_type": "markdown",
      "source": [
        "#Scraping and downloading images from websites for ML\n",
        "\n",
        "The client needs all the images in png format for the following website:\n",
        "'http://www.pngmart.com/'\n",
        "The project is for machine learning so although the client did not specify the following part we will aslo get some metadata related to the images for them."
      ],
      "metadata": {
        "id": "bW1laCJ9U8rx"
      }
    },
    {
      "cell_type": "code",
      "execution_count": 1,
      "metadata": {
        "id": "ldIX1ApcU1gi"
      },
      "outputs": [],
      "source": [
        "#Importing libraries\n",
        "import requests\n",
        "from bs4 import BeautifulSoup"
      ]
    },
    {
      "cell_type": "code",
      "source": [
        "#Defining the sitemap we want to scrape\n",
        "site_map = 'https://www.pngmart.com/sitemap.xml'"
      ],
      "metadata": {
        "id": "rdJcrn-1bOxi"
      },
      "execution_count": 2,
      "outputs": []
    },
    {
      "cell_type": "code",
      "source": [
        "\n",
        "response = requests.get(site_map)"
      ],
      "metadata": {
        "id": "O7WJD_KAbTJ5"
      },
      "execution_count": 3,
      "outputs": []
    },
    {
      "cell_type": "code",
      "source": [
        "response"
      ],
      "metadata": {
        "colab": {
          "base_uri": "https://localhost:8080/"
        },
        "id": "sCOsuts1bf5N",
        "outputId": "cde77974-4d7e-4114-fce4-3a1a5d507416"
      },
      "execution_count": 4,
      "outputs": [
        {
          "output_type": "execute_result",
          "data": {
            "text/plain": [
              "<Response [504]>"
            ]
          },
          "metadata": {},
          "execution_count": 4
        }
      ]
    },
    {
      "cell_type": "code",
      "source": [
        "xml = response.text"
      ],
      "metadata": {
        "id": "9v6E_gT4buPp"
      },
      "execution_count": 5,
      "outputs": []
    },
    {
      "cell_type": "code",
      "source": [
        "soup = BeautifulSoup(xml,'xml')"
      ],
      "metadata": {
        "id": "z--NpitkbxdP"
      },
      "execution_count": 6,
      "outputs": []
    },
    {
      "cell_type": "code",
      "source": [
        "soup.find_all('loc')"
      ],
      "metadata": {
        "colab": {
          "base_uri": "https://localhost:8080/"
        },
        "id": "TvaiPIlMg1eu",
        "outputId": "1b80a864-d5dc-4316-ab44-5f995408f569"
      },
      "execution_count": 7,
      "outputs": [
        {
          "output_type": "execute_result",
          "data": {
            "text/plain": [
              "[]"
            ]
          },
          "metadata": {},
          "execution_count": 7
        }
      ]
    },
    {
      "cell_type": "code",
      "source": [
        "site_maps = []\n",
        "for loc in soup.find_all('loc'):\n",
        "  url=loc.text\n",
        "  if \"post-sitemap\" in url:\n",
        "    print(loc.text)\n",
        "    site_maps.append(url)"
      ],
      "metadata": {
        "id": "U4DeOFykcKMs"
      },
      "execution_count": 8,
      "outputs": []
    },
    {
      "cell_type": "code",
      "source": [
        "site_maps[0]"
      ],
      "metadata": {
        "colab": {
          "base_uri": "https://localhost:8080/",
          "height": 165
        },
        "id": "yArwP7tyi1qP",
        "outputId": "49795e8e-5925-49e1-9556-39832268d5f3"
      },
      "execution_count": 9,
      "outputs": [
        {
          "output_type": "error",
          "ename": "IndexError",
          "evalue": "ignored",
          "traceback": [
            "\u001b[0;31m---------------------------------------------------------------------------\u001b[0m",
            "\u001b[0;31mIndexError\u001b[0m                                Traceback (most recent call last)",
            "\u001b[0;32m<ipython-input-9-fd466a7212cd>\u001b[0m in \u001b[0;36m<cell line: 1>\u001b[0;34m()\u001b[0m\n\u001b[0;32m----> 1\u001b[0;31m \u001b[0msite_maps\u001b[0m\u001b[0;34m[\u001b[0m\u001b[0;36m0\u001b[0m\u001b[0;34m]\u001b[0m\u001b[0;34m\u001b[0m\u001b[0;34m\u001b[0m\u001b[0m\n\u001b[0m",
            "\u001b[0;31mIndexError\u001b[0m: list index out of range"
          ]
        }
      ]
    },
    {
      "cell_type": "code",
      "source": [
        "response = requests.get(site_maps[0],'xml')"
      ],
      "metadata": {
        "id": "HtclyCiZeA5-"
      },
      "execution_count": null,
      "outputs": []
    },
    {
      "cell_type": "code",
      "source": [
        "response"
      ],
      "metadata": {
        "id": "hw_lEcXMeD4A"
      },
      "execution_count": null,
      "outputs": []
    },
    {
      "cell_type": "code",
      "source": [
        "soup =BeautifulSoup(response.text,'xml')"
      ],
      "metadata": {
        "id": "ZBREZ8-oeRMB"
      },
      "execution_count": null,
      "outputs": []
    },
    {
      "cell_type": "code",
      "source": [
        "master_list = []\n",
        "for loc in soup.find_all('loc'):\n",
        "  url=loc.text\n",
        "  master_list.append(url)"
      ],
      "metadata": {
        "id": "pkAFKr4seTWP"
      },
      "execution_count": null,
      "outputs": []
    },
    {
      "cell_type": "code",
      "source": [
        "master_list[0:5]"
      ],
      "metadata": {
        "id": "9QxHqsz6gjtb"
      },
      "execution_count": null,
      "outputs": []
    },
    {
      "cell_type": "markdown",
      "source": [
        "We have now found a way to find the individual image URLs and we can now visit each one of the "
      ],
      "metadata": {
        "id": "-E086tUOjs1u"
      }
    },
    {
      "cell_type": "code",
      "source": [
        "len(master_list)"
      ],
      "metadata": {
        "id": "ypHrRJPognA0"
      },
      "execution_count": null,
      "outputs": []
    },
    {
      "cell_type": "code",
      "source": [
        "for image_url in master_list[0:10]:\n",
        "  print(image_url)\n",
        "  response = requests.get(image_url)\n",
        "  soup = BeautifulSoup(response.text, 'html.parser')\n",
        "  png_url = soup.find('a', {'class':'download'})['href']\n",
        "  image = requests.get(png_url)\n",
        "  image_title = f\"{image_url.split('/')[-1]}-{png_url.split('/')[-1]}\"\n",
        "  \n",
        "  with open(image_title,'wb') as f:\n",
        "    f.write(image.content)\n",
        "  "
      ],
      "metadata": {
        "id": "INJFR9zFiFHP"
      },
      "execution_count": null,
      "outputs": []
    },
    {
      "cell_type": "code",
      "source": [],
      "metadata": {
        "id": "fsc7EpbQsr4P"
      },
      "execution_count": null,
      "outputs": []
    }
  ]
}